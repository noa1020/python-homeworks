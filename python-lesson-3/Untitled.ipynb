{
 "cells": [
  {
   "cell_type": "code",
   "execution_count": 1,
   "id": "b8f20b73-45ce-4c86-9041-59bf384a55fc",
   "metadata": {},
   "outputs": [
    {
     "name": "stdout",
     "output_type": "stream",
     "text": [
      "Collecting numpy\n",
      "  Downloading numpy-1.26.3-cp310-cp310-win_amd64.whl.metadata (61 kB)\n",
      "     ---------------------------------------- 0.0/61.2 kB ? eta -:--:--\n",
      "     -------------------- ------------------- 30.7/61.2 kB ? eta -:--:--\n",
      "     -------------------- ------------------- 30.7/61.2 kB ? eta -:--:--\n",
      "     -------------------------------------- 61.2/61.2 kB 463.4 kB/s eta 0:00:00\n",
      "Downloading numpy-1.26.3-cp310-cp310-win_amd64.whl (15.8 MB)\n",
      "   ---------------------------------------- 0.0/15.8 MB ? eta -:--:--\n",
      "   ---------------------------------------- 0.0/15.8 MB ? eta -:--:--\n",
      "   ---------------------------------------- 0.1/15.8 MB 1.2 MB/s eta 0:00:13\n",
      "    --------------------------------------- 0.3/15.8 MB 2.3 MB/s eta 0:00:07\n",
      "   - -------------------------------------- 0.7/15.8 MB 3.7 MB/s eta 0:00:05\n",
      "   -- ------------------------------------- 1.1/15.8 MB 4.8 MB/s eta 0:00:04\n",
      "   --- ------------------------------------ 1.3/15.8 MB 5.0 MB/s eta 0:00:03\n",
      "   ---- ----------------------------------- 1.9/15.8 MB 5.5 MB/s eta 0:00:03\n",
      "   ----- ---------------------------------- 2.3/15.8 MB 6.2 MB/s eta 0:00:03\n",
      "   ------ --------------------------------- 2.7/15.8 MB 6.4 MB/s eta 0:00:03\n",
      "   ------- -------------------------------- 3.0/15.8 MB 6.5 MB/s eta 0:00:02\n",
      "   -------- ------------------------------- 3.5/15.8 MB 6.7 MB/s eta 0:00:02\n",
      "   --------- ------------------------------ 3.9/15.8 MB 6.9 MB/s eta 0:00:02\n",
      "   ---------- ----------------------------- 4.2/15.8 MB 6.9 MB/s eta 0:00:02\n",
      "   ----------- ---------------------------- 4.5/15.8 MB 6.8 MB/s eta 0:00:02\n",
      "   ----------- ---------------------------- 4.7/15.8 MB 6.7 MB/s eta 0:00:02\n",
      "   ------------ --------------------------- 5.0/15.8 MB 6.6 MB/s eta 0:00:02\n",
      "   ------------- -------------------------- 5.5/15.8 MB 6.6 MB/s eta 0:00:02\n",
      "   -------------- ------------------------- 5.9/15.8 MB 6.9 MB/s eta 0:00:02\n",
      "   ---------------- ----------------------- 6.4/15.8 MB 7.0 MB/s eta 0:00:02\n",
      "   ----------------- ---------------------- 6.8/15.8 MB 7.1 MB/s eta 0:00:02\n",
      "   ----------------- ---------------------- 7.0/15.8 MB 7.0 MB/s eta 0:00:02\n",
      "   ------------------ --------------------- 7.4/15.8 MB 7.0 MB/s eta 0:00:02\n",
      "   ------------------- -------------------- 7.8/15.8 MB 7.2 MB/s eta 0:00:02\n",
      "   -------------------- ------------------- 8.3/15.8 MB 7.1 MB/s eta 0:00:02\n",
      "   ---------------------- ----------------- 8.7/15.8 MB 7.3 MB/s eta 0:00:01\n",
      "   ----------------------- ---------------- 9.1/15.8 MB 7.4 MB/s eta 0:00:01\n",
      "   ------------------------ --------------- 9.5/15.8 MB 7.4 MB/s eta 0:00:01\n",
      "   ------------------------- -------------- 10.0/15.8 MB 7.5 MB/s eta 0:00:01\n",
      "   -------------------------- ------------- 10.4/15.8 MB 8.1 MB/s eta 0:00:01\n",
      "   --------------------------- ------------ 10.8/15.8 MB 8.2 MB/s eta 0:00:01\n",
      "   ---------------------------- ----------- 11.2/15.8 MB 8.2 MB/s eta 0:00:01\n",
      "   ----------------------------- ---------- 11.7/15.8 MB 8.4 MB/s eta 0:00:01\n",
      "   ------------------------------ --------- 12.1/15.8 MB 8.3 MB/s eta 0:00:01\n",
      "   ------------------------------- -------- 12.5/15.8 MB 8.2 MB/s eta 0:00:01\n",
      "   -------------------------------- ------- 12.9/15.8 MB 8.2 MB/s eta 0:00:01\n",
      "   --------------------------------- ------ 13.4/15.8 MB 8.4 MB/s eta 0:00:01\n",
      "   ---------------------------------- ----- 13.8/15.8 MB 8.3 MB/s eta 0:00:01\n",
      "   ------------------------------------ --- 14.3/15.8 MB 8.4 MB/s eta 0:00:01\n",
      "   ------------------------------------- -- 14.7/15.8 MB 8.6 MB/s eta 0:00:01\n",
      "   -------------------------------------- - 15.1/15.8 MB 8.7 MB/s eta 0:00:01\n",
      "   ---------------------------------------  15.7/15.8 MB 9.0 MB/s eta 0:00:01\n",
      "   ---------------------------------------  15.8/15.8 MB 9.0 MB/s eta 0:00:01\n",
      "   ---------------------------------------- 15.8/15.8 MB 8.5 MB/s eta 0:00:00\n",
      "Installing collected packages: numpy\n",
      "Note: you may need to restart the kernel to use updated packages.\n"
     ]
    },
    {
     "name": "stderr",
     "output_type": "stream",
     "text": [
      "  WARNING: Failed to write executable - trying to use .deleteme logic\n",
      "ERROR: Could not install packages due to an OSError: [WinError 2] The system cannot find the file specified: 'C:\\\\Python310\\\\Scripts\\\\f2py.exe' -> 'C:\\\\Python310\\\\Scripts\\\\f2py.exe.deleteme'\n",
      "\n"
     ]
    }
   ],
   "source": [
    "pip install numpy"
   ]
  },
  {
   "cell_type": "code",
   "execution_count": 2,
   "id": "4aec8302-0b7c-4bef-9bc1-ddf9acde09f0",
   "metadata": {},
   "outputs": [],
   "source": [
    "import numpy as np"
   ]
  },
  {
   "cell_type": "code",
   "execution_count": 9,
   "id": "7efe83f9-74e3-484f-a9be-95a494cd0400",
   "metadata": {},
   "outputs": [
    {
     "data": {
      "text/plain": [
       "array([ 1, 47, 25, 26,  9, 25,  1, 42, 21,  7])"
      ]
     },
     "execution_count": 9,
     "metadata": {},
     "output_type": "execute_result"
    }
   ],
   "source": [
    "array=np.random.randint(1, 50,size=10)\n",
    "array"
   ]
  },
  {
   "cell_type": "code",
   "execution_count": 10,
   "id": "70ad6607-f2b7-402c-99d9-f6c2277e0548",
   "metadata": {},
   "outputs": [
    {
     "data": {
      "text/plain": [
       "10"
      ]
     },
     "execution_count": 10,
     "metadata": {},
     "output_type": "execute_result"
    }
   ],
   "source": [
    "array.size"
   ]
  },
  {
   "cell_type": "code",
   "execution_count": 16,
   "id": "62dbd147-a954-4ecc-a8c2-e763bc26acac",
   "metadata": {},
   "outputs": [
    {
     "data": {
      "text/plain": [
       "dtype('int32')"
      ]
     },
     "execution_count": 16,
     "metadata": {},
     "output_type": "execute_result"
    }
   ],
   "source": [
    "array.dtype"
   ]
  },
  {
   "cell_type": "code",
   "execution_count": 14,
   "id": "7b4e6f4d-2d2d-4abd-9325-316fd5998cd7",
   "metadata": {},
   "outputs": [
    {
     "data": {
      "text/plain": [
       "1"
      ]
     },
     "execution_count": 14,
     "metadata": {},
     "output_type": "execute_result"
    }
   ],
   "source": [
    "np.ndim(array)\n"
   ]
  },
  {
   "cell_type": "code",
   "execution_count": 18,
   "id": "bb23d8b0-cc4c-407c-a5bd-c17cde46882d",
   "metadata": {},
   "outputs": [],
   "source": [
    "array2=np.random.randint(10, 100,size=[2,5])\n"
   ]
  },
  {
   "cell_type": "code",
   "execution_count": 19,
   "id": "b3a4fdb8-aa29-41d3-8129-c4702294aa9b",
   "metadata": {},
   "outputs": [
    {
     "data": {
      "text/plain": [
       "array([[78, 62, 88, 40, 11],\n",
       "       [60, 48, 70, 10, 58]])"
      ]
     },
     "execution_count": 19,
     "metadata": {},
     "output_type": "execute_result"
    }
   ],
   "source": [
    "array2"
   ]
  },
  {
   "cell_type": "code",
   "execution_count": 20,
   "id": "41a15c73-c8bd-4211-a54e-0146daecf21a",
   "metadata": {},
   "outputs": [
    {
     "data": {
      "text/plain": [
       "10"
      ]
     },
     "execution_count": 20,
     "metadata": {},
     "output_type": "execute_result"
    }
   ],
   "source": [
    "array2.size"
   ]
  },
  {
   "cell_type": "code",
   "execution_count": 21,
   "id": "b6ca741a-b736-49c9-b0b1-d975e3c610e2",
   "metadata": {},
   "outputs": [
    {
     "data": {
      "text/plain": [
       "(2, 5)"
      ]
     },
     "execution_count": 21,
     "metadata": {},
     "output_type": "execute_result"
    }
   ],
   "source": [
    "array2.shape"
   ]
  },
  {
   "cell_type": "code",
   "execution_count": null,
   "id": "2779b596-5e53-4f0d-a366-7a91da757551",
   "metadata": {},
   "outputs": [],
   "source": []
  }
 ],
 "metadata": {
  "kernelspec": {
   "display_name": "Python 3 (ipykernel)",
   "language": "python",
   "name": "python3"
  },
  "language_info": {
   "codemirror_mode": {
    "name": "ipython",
    "version": 3
   },
   "file_extension": ".py",
   "mimetype": "text/x-python",
   "name": "python",
   "nbconvert_exporter": "python",
   "pygments_lexer": "ipython3",
   "version": "3.10.8"
  }
 },
 "nbformat": 4,
 "nbformat_minor": 5
}
